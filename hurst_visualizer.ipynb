{
 "cells": [
  {
   "cell_type": "code",
   "execution_count": null,
   "metadata": {},
   "outputs": [],
   "source": [
    "%matplotlib notebook\n",
    "from ipywidgets import *\n",
    "import numpy as np\n",
    "import matplotlib.pyplot as plt\n",
    "# numpy is bitching about taking real part of complex number. i dont want to hear it.\n",
    "import warnings\n",
    "warnings.filterwarnings(\"ignore\")"
   ]
  },
  {
   "cell_type": "markdown",
   "metadata": {},
   "source": [
    "## Simulate self-affine 1d vector"
   ]
  },
  {
   "cell_type": "code",
   "execution_count": null,
   "metadata": {},
   "outputs": [],
   "source": [
    "# parameters\n",
    "#####################\n",
    "dx = 1 # grid spacing\n",
    "nx = 1000 # length in units \n",
    "hurst = 0.5\n",
    "seed = 420\n",
    "\n",
    "def nextpow2(num):\n",
    "    pow2 = 2\n",
    "    while pow2 <= num:\n",
    "        pow2 = pow2 * 2\n",
    "    return pow2\n",
    "\n",
    "def generate_colored_noise(hurst, nx, dx, seed=None):\n",
    "    if seed is not None:\n",
    "        np.random.seed(seed=seed)\n",
    "    beta = -2*(hurst+0.5)\n",
    "    print('power law exponent: {}'.format(beta))\n",
    "    # power -> amplitude\n",
    "    beta = 0.5*beta\n",
    "    n1n = nextpow2(np.rint(nx/dx))\n",
    "    # radial wavenumber components\n",
    "    dk1 = (1./n1n)*(2*np.pi/dx)\n",
    "    knyq = np.pi / dx\n",
    "    k1 = np.fft.fftshift(dk1*np.linspace(-n1n/2-1,n1n/2,n1n))\n",
    "    kr = np.sqrt(k1**2)\n",
    "    ampspec = kr**beta\n",
    "    # simulate power law\n",
    "    rf1d = ampspec*(np.random.randn(n1n)+1j*np.random.randn(n1n))\n",
    "    # inverse transform; demean for plotting\n",
    "    rf1d = np.real(np.fft.ifft(rf1d))-np.mean(rf1d)\n",
    "    return rf1d\n",
    "\n",
    "def update_plot(hurst=0.5):\n",
    "    rf1d = generate_colored_noise(hurst, nx, dx, seed=seed)\n",
    "    line.set_ydata(rf1d)\n",
    "    ax = plt.gca()\n",
    "    ax.relim()\n",
    "    ax.autoscale()\n",
    "    fig.canvas.draw()"
   ]
  },
  {
   "cell_type": "code",
   "execution_count": null,
   "metadata": {},
   "outputs": [],
   "source": [
    "# seed figure with brownian noise\n",
    "rf1d = generate_colored_noise(hurst, nx, dx, seed=seed)\n",
    "\n",
    "# here is the interactive magic\n",
    "fig = plt.figure()\n",
    "ax = fig.add_subplot(1,1,1)\n",
    "line, = ax.plot(rf1d)\n",
    "_ = interact(update_plot)"
   ]
  }
 ],
 "metadata": {
  "kernelspec": {
   "display_name": "Python 3",
   "language": "python",
   "name": "python3"
  },
  "language_info": {
   "codemirror_mode": {
    "name": "ipython",
    "version": 3
   },
   "file_extension": ".py",
   "mimetype": "text/x-python",
   "name": "python",
   "nbconvert_exporter": "python",
   "pygments_lexer": "ipython3",
   "version": "3.6.3"
  }
 },
 "nbformat": 4,
 "nbformat_minor": 2
}
